{
 "cells": [
  {
   "cell_type": "code",
   "execution_count": 1,
   "id": "7235ddec",
   "metadata": {},
   "outputs": [],
   "source": [
    "import pandas as pd\n",
    "from ast import literal_eval\n",
    "\n",
    "from tqdm import tqdm\n",
    "import numpy as np"
   ]
  },
  {
   "cell_type": "code",
   "execution_count": 2,
   "id": "4cd9f5c3",
   "metadata": {},
   "outputs": [],
   "source": [
    "import pickledd"
   ]
  },
  {
   "cell_type": "code",
   "execution_count": 2,
   "id": "60b7556c",
   "metadata": {},
   "outputs": [],
   "source": [
    "df = pd.read_csv(\"dataset_full_1hr_sectioned.csv\")\n",
    "df = df.drop_duplicates()\n",
    "df = df.drop_duplicates(subset=['study_id'])\n",
    "df = df.drop(columns=['hadm_id'])"
   ]
  },
  {
   "cell_type": "code",
   "execution_count": 3,
   "id": "7c5ac443",
   "metadata": {},
   "outputs": [],
   "source": [
    "for i in [\"impression\", \"findings\", \"last_paragraph\", \"comparison\", \"history\", \"indication\"]:\n",
    "    df[i] = df[i].apply(lambda x: literal_eval(x) if (type(x)!=float and \"[\" in x) else x)"
   ]
  },
  {
   "cell_type": "code",
   "execution_count": 4,
   "id": "4bca5fb7",
   "metadata": {},
   "outputs": [],
   "source": [
    "df['radnotes'] = df['radnotes'].apply(lambda x: literal_eval(x) if \"[\" in x else x)\n",
    "df['img_folders'] = df['img_folders'].apply(lambda x: literal_eval(x) if \"[\" in x else x)\n",
    "df['img_filenames'] = df['img_filenames'].apply(lambda x: literal_eval(x) if \"[\" in x else x)\n",
    "df['img_deltacharttimes'] = df['img_deltacharttimes'].apply(lambda x: literal_eval(x) if \"[\" in x else x)\n",
    "df['text_deltacharttimes'] = df['text_deltacharttimes'].apply(lambda x: literal_eval(x) if \"[\" in x else x)"
   ]
  },
  {
   "cell_type": "code",
   "execution_count": 5,
   "id": "72184c89",
   "metadata": {},
   "outputs": [
    {
     "name": "stderr",
     "output_type": "stream",
     "text": [
      "100%|██████████| 69991/69991 [00:18<00:00, 3788.57it/s]\n"
     ]
    }
   ],
   "source": [
    "#[\"impression\", \"findings\", \"last_paragraph\", \"comparison\", \"history\", \"indication\"]\n",
    "for index in tqdm(range(len(df))):\n",
    "    for col in [\"impression\"]:\n",
    "        #print(type(df.iloc[index][i]))\n",
    "        if type(df.iloc[index][col]) != float and all((x=='None' or x is None) for x in df.iloc[index][col]):\n",
    "            df.at[index, col]=np.nan"
   ]
  },
  {
   "cell_type": "code",
   "execution_count": 6,
   "id": "470838a2",
   "metadata": {},
   "outputs": [
    {
     "data": {
      "text/plain": [
       "69100"
      ]
     },
     "execution_count": 6,
     "metadata": {},
     "output_type": "execute_result"
    }
   ],
   "source": [
    "df = df.dropna(subset=['impression'])\n",
    "len(df)"
   ]
  },
  {
   "cell_type": "code",
   "execution_count": 7,
   "id": "6c6895a0",
   "metadata": {},
   "outputs": [],
   "source": [
    "# Remove the column from its current position and store it\n",
    "column_to_move = df.pop('cxrtime')\n",
    "\n",
    "# Reinsert the column at the last position\n",
    "df['cxrtime'] = column_to_move"
   ]
  },
  {
   "cell_type": "code",
   "execution_count": 8,
   "id": "d40df9dd",
   "metadata": {},
   "outputs": [],
   "source": [
    "# Function to remove elements less than 20 from a list\n",
    "def change_row(x):\n",
    "    img_time = x['img_deltacharttimes']\n",
    "    img_folders = x['img_folders']\n",
    "    img_filenames = x['img_filenames']\n",
    "    \n",
    "    lst_last = img_time[-1]\n",
    "    #indices = [index for index, value in enumerate(img_time) if lst_last - value <= 168]\n",
    "    indices = [index for index, value in enumerate(img_time)]\n",
    "    \n",
    "    img_time = [img_time[i] for i in indices]\n",
    "    img_folders = [img_folders[i] for i in indices]\n",
    "    img_filenames = [img_filenames[i] for i in indices]\n",
    "    \n",
    "    del img_time[:-20]\n",
    "    del img_folders[:-20]\n",
    "    del img_filenames[:-20]\n",
    "    \n",
    "    x['img_deltacharttimes'] = img_time\n",
    "    x['img_folders'] = img_folders\n",
    "    x['img_filenames'] = img_filenames\n",
    "    \n",
    "    return x"
   ]
  },
  {
   "cell_type": "code",
   "execution_count": 9,
   "id": "8df6ff57",
   "metadata": {},
   "outputs": [],
   "source": [
    "# Apply the function to the 'ListColumn' and update the DataFrame\n",
    "df = df.apply(change_row, axis=1)"
   ]
  },
  {
   "cell_type": "code",
   "execution_count": 10,
   "id": "603ae0ea",
   "metadata": {},
   "outputs": [],
   "source": [
    "# Function to remove elements less than 50 from a list\n",
    "def change_row(x):\n",
    "    radnotes = x['radnotes']\n",
    "    impression = x['impression']\n",
    "    findings = x['findings']\n",
    "    text_time = x['text_deltacharttimes']\n",
    "    \n",
    "    del radnotes[:-50]\n",
    "    del impression[:-50]\n",
    "    del findings[:-50]\n",
    "    del text_time[:-50]\n",
    "    \n",
    "    x['radnotes'] = radnotes\n",
    "    x['impression'] = impression\n",
    "    x['findings'] = findings\n",
    "    x['text_deltacharttimes'] = text_time\n",
    "    \n",
    "    return x"
   ]
  },
  {
   "cell_type": "code",
   "execution_count": 11,
   "id": "657a92dc",
   "metadata": {},
   "outputs": [],
   "source": [
    "df = df.apply(change_row, axis=1)"
   ]
  },
  {
   "cell_type": "code",
   "execution_count": 12,
   "id": "2e312bb3",
   "metadata": {},
   "outputs": [],
   "source": [
    "df.to_csv(\"full_clear_dataset.csv\", index=None)"
   ]
  },
  {
   "cell_type": "code",
   "execution_count": 13,
   "id": "02478d11",
   "metadata": {
    "scrolled": true
   },
   "outputs": [],
   "source": [
    "df = pd.read_csv(\"full_clear_dataset.csv\")"
   ]
  },
  {
   "cell_type": "code",
   "execution_count": 14,
   "id": "65ace72a",
   "metadata": {},
   "outputs": [],
   "source": [
    "# Convert the 'timestamp' column to datetime if it's not already\n",
    "df['cxrtime'] = pd.to_datetime(df['cxrtime'])\n",
    "\n",
    "# Sort the DataFrame by the 'timestamp' column\n",
    "df_sorted = df.sort_values(by='cxrtime')"
   ]
  },
  {
   "cell_type": "code",
   "execution_count": 15,
   "id": "13ea369d",
   "metadata": {},
   "outputs": [],
   "source": [
    "def unique_ordered(elements):\n",
    "    seen = set()\n",
    "    unique = []\n",
    "    for element in elements:\n",
    "        if element not in seen:\n",
    "            unique.append(element)\n",
    "            seen.add(element)\n",
    "    return unique"
   ]
  },
  {
   "cell_type": "code",
   "execution_count": 16,
   "id": "9bf428e3",
   "metadata": {},
   "outputs": [],
   "source": [
    "unique_subject_id = unique_ordered(df_sorted['subject_id'].values)"
   ]
  },
  {
   "cell_type": "code",
   "execution_count": 17,
   "id": "631ce5cc",
   "metadata": {},
   "outputs": [],
   "source": [
    "# Calculate the lengths for each part\n",
    "total_length = len(unique_subject_id)\n",
    "part1_length = int(total_length * 0.8)\n",
    "part2_length = int(total_length * 0.1)\n",
    "\n",
    "# Split the list\n",
    "train_subject_id = unique_subject_id[:part1_length]\n",
    "val_subject_id = unique_subject_id[part1_length + part2_length:]\n",
    "test_subject_id = unique_subject_id[part1_length:part1_length + part2_length]"
   ]
  },
  {
   "cell_type": "code",
   "execution_count": 18,
   "id": "b7a8edf6",
   "metadata": {},
   "outputs": [
    {
     "data": {
      "text/plain": [
       "(9762, 1221, 1220)"
      ]
     },
     "execution_count": 18,
     "metadata": {},
     "output_type": "execute_result"
    }
   ],
   "source": [
    "len(train_subject_id), len(val_subject_id), len(test_subject_id)"
   ]
  },
  {
   "cell_type": "code",
   "execution_count": 19,
   "id": "52f18b08",
   "metadata": {},
   "outputs": [],
   "source": [
    "train_df_sorted = df_sorted[df_sorted['subject_id'].isin(train_subject_id)]\n",
    "val_df_sorted = df_sorted[df_sorted['subject_id'].isin(val_subject_id)]\n",
    "test_df_sorted = df_sorted[df_sorted['subject_id'].isin(test_subject_id)]"
   ]
  },
  {
   "cell_type": "code",
   "execution_count": 20,
   "id": "8f9382cc",
   "metadata": {},
   "outputs": [
    {
     "data": {
      "text/plain": [
       "(55467, 6765, 6868)"
      ]
     },
     "execution_count": 20,
     "metadata": {},
     "output_type": "execute_result"
    }
   ],
   "source": [
    "len(train_df_sorted), len(val_df_sorted), len(test_df_sorted)"
   ]
  },
  {
   "cell_type": "code",
   "execution_count": 21,
   "id": "66a58888",
   "metadata": {},
   "outputs": [],
   "source": [
    "train_df_sorted.to_csv(\"train_impressions_1hr_clear.csv\", index=None)\n",
    "val_df_sorted.to_csv(\"val_impressions_1hr_clear.csv\", index=None)\n",
    "test_df_sorted.to_csv(\"test_impressions_1hr_clear.csv\", index=None)"
   ]
  }
 ],
 "metadata": {
  "kernelspec": {
   "display_name": "Python 3 (ipykernel)",
   "language": "python",
   "name": "python3"
  },
  "language_info": {
   "codemirror_mode": {
    "name": "ipython",
    "version": 3
   },
   "file_extension": ".py",
   "mimetype": "text/x-python",
   "name": "python",
   "nbconvert_exporter": "python",
   "pygments_lexer": "ipython3",
   "version": "3.8.12"
  }
 },
 "nbformat": 4,
 "nbformat_minor": 5
}
